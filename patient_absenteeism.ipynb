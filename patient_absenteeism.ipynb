{
 "cells": [
  {
   "cell_type": "markdown",
   "metadata": {},
   "source": [
    "# Investigation of Appointment Absences\n",
    "\n",
    "## Table of Contents\n",
    "<ul>\n",
    "<li><a href=\"#intro\">Introduction</a></li>\n",
    "<li><a href=\"#cleaning\">Data Cleaning</a></li>\n",
    "<li><a href=\"#eda\">Exploratory Data Analysis</a></li>\n",
    "<li><a href=\"#conclusions\">Conclusions</a></li>\n",
    "</ul>"
   ]
  },
  {
   "cell_type": "markdown",
   "metadata": {},
   "source": [
    "<a id='intro'></a>\n",
    "## Introduction\n",
    "\n",
    ">This report will investigate related causes for patient absenteeism using a large-sample dataset from Brazil 2016. This report will not utilize any regression analyses and will therefore be unable to provide any concrete relationships. Instead, this report will give approximations using graphical displays; graphics will include bar charts, histograms, and scatterplots. The primary characteristics investigated will be as follows: gender, appointment day, and age. This report acknowledges that there may be significant omitted variable bias either due to unobservable or unmeasured characterics; most notably \"culture\" may be an unobservable/unmeasurable characteristic that might cause significant error.\n",
    "\n",
    ">Data Source: Kaggle.com"
   ]
  },
  {
   "cell_type": "code",
   "execution_count": 1,
   "metadata": {},
   "outputs": [],
   "source": [
    "import pandas as pd\n",
    "import numpy as np\n",
    "import matplotlib.pyplot as plt\n",
    "import matplotlib.dates as mdates\n",
    "import seaborn as sns\n",
    "%matplotlib inline"
   ]
  },
  {
   "cell_type": "markdown",
   "metadata": {},
   "source": [
    "### General Properties"
   ]
  },
  {
   "cell_type": "code",
   "execution_count": 2,
   "metadata": {},
   "outputs": [],
   "source": [
    "df = pd.read_csv('noshowappointments-kagglev2-may-2016.csv')"
   ]
  },
  {
   "cell_type": "code",
   "execution_count": 3,
   "metadata": {
    "scrolled": true
   },
   "outputs": [
    {
     "name": "stdout",
     "output_type": "stream",
     "text": [
      "<class 'pandas.core.frame.DataFrame'>\n",
      "RangeIndex: 110527 entries, 0 to 110526\n",
      "Data columns (total 14 columns):\n",
      "PatientId         110527 non-null float64\n",
      "AppointmentID     110527 non-null int64\n",
      "Gender            110527 non-null object\n",
      "ScheduledDay      110527 non-null object\n",
      "AppointmentDay    110527 non-null object\n",
      "Age               110527 non-null int64\n",
      "Neighbourhood     110527 non-null object\n",
      "Scholarship       110527 non-null int64\n",
      "Hipertension      110527 non-null int64\n",
      "Diabetes          110527 non-null int64\n",
      "Alcoholism        110527 non-null int64\n",
      "Handcap           110527 non-null int64\n",
      "SMS_received      110527 non-null int64\n",
      "No-show           110527 non-null object\n",
      "dtypes: float64(1), int64(8), object(5)\n",
      "memory usage: 11.8+ MB\n",
      "None\n"
     ]
    }
   ],
   "source": [
    "print(df.info())"
   ]
  },
  {
   "cell_type": "markdown",
   "metadata": {},
   "source": [
    ">An info() method reveals that there are no missing values."
   ]
  },
  {
   "cell_type": "code",
   "execution_count": 4,
   "metadata": {},
   "outputs": [
    {
     "name": "stdout",
     "output_type": "stream",
     "text": [
      "0\n"
     ]
    }
   ],
   "source": [
    "print(list(df.duplicated()).count(True))"
   ]
  },
  {
   "cell_type": "markdown",
   "metadata": {},
   "source": [
    ">There are no duplicated values"
   ]
  },
  {
   "cell_type": "code",
   "execution_count": 5,
   "metadata": {},
   "outputs": [
    {
     "name": "stdout",
     "output_type": "stream",
     "text": [
      "          PatientId  AppointmentID            Age    Scholarship  \\\n",
      "count  1.105270e+05   1.105270e+05  110527.000000  110527.000000   \n",
      "mean   1.474963e+14   5.675305e+06      37.088874       0.098266   \n",
      "std    2.560949e+14   7.129575e+04      23.110205       0.297675   \n",
      "min    3.921784e+04   5.030230e+06      -1.000000       0.000000   \n",
      "25%    4.172614e+12   5.640286e+06      18.000000       0.000000   \n",
      "50%    3.173184e+13   5.680573e+06      37.000000       0.000000   \n",
      "75%    9.439172e+13   5.725524e+06      55.000000       0.000000   \n",
      "max    9.999816e+14   5.790484e+06     115.000000       1.000000   \n",
      "\n",
      "        Hipertension       Diabetes     Alcoholism        Handcap  \\\n",
      "count  110527.000000  110527.000000  110527.000000  110527.000000   \n",
      "mean        0.197246       0.071865       0.030400       0.022248   \n",
      "std         0.397921       0.258265       0.171686       0.161543   \n",
      "min         0.000000       0.000000       0.000000       0.000000   \n",
      "25%         0.000000       0.000000       0.000000       0.000000   \n",
      "50%         0.000000       0.000000       0.000000       0.000000   \n",
      "75%         0.000000       0.000000       0.000000       0.000000   \n",
      "max         1.000000       1.000000       1.000000       4.000000   \n",
      "\n",
      "        SMS_received  \n",
      "count  110527.000000  \n",
      "mean        0.321026  \n",
      "std         0.466873  \n",
      "min         0.000000  \n",
      "25%         0.000000  \n",
      "50%         0.000000  \n",
      "75%         1.000000  \n",
      "max         1.000000  \n"
     ]
    }
   ],
   "source": [
    "print(df.describe())"
   ]
  },
  {
   "cell_type": "markdown",
   "metadata": {},
   "source": [
    ">From an initial description of the data set it is apparent that the dataset is not yet suitable for analysis. There are a number of categories that are unwanted for the analysis (although still quite useful) and certain categories of interest, such as appointment day and no_show, would be graphed more easily after being transformed. For instance, the investigated, dependent variable -- no_show -- and the variable gender are both still in string form, when a binary form might be preferrable."
   ]
  },
  {
   "cell_type": "markdown",
   "metadata": {},
   "source": [
    "<a id='cleaning'></a>\n",
    "### Data Cleaning\n",
    "<ul>\n",
    "    Check data set for missing values, check for duplicate values, and recode and rename certain characteristics."
   ]
  },
  {
   "cell_type": "markdown",
   "metadata": {},
   "source": [
    ">First, unwanted characteristics are dropped."
   ]
  },
  {
   "cell_type": "code",
   "execution_count": 6,
   "metadata": {},
   "outputs": [],
   "source": [
    "df.drop(['Neighbourhood', 'PatientId', 'ScheduledDay', 'AppointmentID', 'Scholarship', 'Hipertension', 'Diabetes', 'Alcoholism', 'Handcap', 'SMS_received'], axis = 1, inplace = True)"
   ]
  },
  {
   "cell_type": "markdown",
   "metadata": {},
   "source": [
    ">Second, targeted characteristics are renamed and recoded. For instance, gender and no_show will be replaced with a binary representation"
   ]
  },
  {
   "cell_type": "code",
   "execution_count": 7,
   "metadata": {},
   "outputs": [],
   "source": [
    "df.rename(index = str, columns = lambda x: x.lower().replace('-', '_'), inplace = True)\n",
    "df.replace(['M', 'F'], [0, 1], inplace = True)\n",
    "# 0: Patient is male 1: Patient is female\n",
    "df.replace(['No', 'Yes'], [0, 1], inplace = True)\n",
    "# 0: Patient showed up 1: Patient was absent"
   ]
  },
  {
   "cell_type": "code",
   "execution_count": 8,
   "metadata": {
    "scrolled": true
   },
   "outputs": [
    {
     "name": "stdout",
     "output_type": "stream",
     "text": [
      "The number of unique age values is:  104\n"
     ]
    }
   ],
   "source": [
    "print('The number of unique age values is: ', df['age'].nunique())"
   ]
  },
  {
   "cell_type": "markdown",
   "metadata": {},
   "source": [
    ">A nunique() method reveals that there are 104 different age values. Althought his can still be graphed, binning the age values in a way that represents lifestage may also reveal different information."
   ]
  },
  {
   "cell_type": "code",
   "execution_count": 9,
   "metadata": {
    "scrolled": true
   },
   "outputs": [
    {
     "name": "stdout",
     "output_type": "stream",
     "text": [
      "0    62\n",
      "1    56\n",
      "2    62\n",
      "3     8\n",
      "4    56\n",
      "5    76\n",
      "6    23\n",
      "7    39\n",
      "8    21\n",
      "9    19\n",
      "Name: age, dtype: int64 0          Adult\n",
      "1          Adult\n",
      "2          Adult\n",
      "3          Child\n",
      "4          Adult\n",
      "5         Senior\n",
      "6    Young Adult\n",
      "7          Adult\n",
      "8    Young Adult\n",
      "9       Teenager\n",
      "Name: life_stage, dtype: category\n",
      "Categories (5, object): [Child < Teenager < Young Adult < Adult < Senior]\n"
     ]
    }
   ],
   "source": [
    "# Obtaining Max and Min\n",
    "youngest = df['age'].min()\n",
    "eldest = df['age'].max()\n",
    "#Binning age by approximate lifestages\n",
    "bin_edges = [youngest, 13, 20, 35, 65, eldest]\n",
    "bin_labels = ['Child', 'Teenager', 'Young Adult', 'Adult', 'Senior']\n",
    "df['life_stage'] = pd.cut(df['age'], bin_edges, labels = bin_labels)\n",
    "print(df['age'].head(10), df['life_stage'].head(10))"
   ]
  },
  {
   "cell_type": "code",
   "execution_count": 10,
   "metadata": {
    "scrolled": true
   },
   "outputs": [
    {
     "name": "stdout",
     "output_type": "stream",
     "text": [
      "The number of appointment days is:  27\n"
     ]
    }
   ],
   "source": [
    "print('The number of appointment days is: ', df['appointmentday'].nunique())"
   ]
  },
  {
   "cell_type": "markdown",
   "metadata": {},
   "source": [
    ">A unique() and nunique() command reveal that the all the patients in this sample had appointment days that spanned 27 different days, or roughly one month. Since all the days follow the same format, year-month-dayT00:00:00Z and all of them have the same year and time, it would be best to trim off that unneccesary information."
   ]
  },
  {
   "cell_type": "code",
   "execution_count": 11,
   "metadata": {},
   "outputs": [],
   "source": [
    "#trimming appointment dates\n",
    "df['appt_trim'] = df['appointmentday'].str.slice(6, 10)"
   ]
  },
  {
   "cell_type": "markdown",
   "metadata": {},
   "source": [
    ">Since every date instance has the same year and tail, the year and tail provide no additional information and should be trimmed."
   ]
  },
  {
   "cell_type": "markdown",
   "metadata": {},
   "source": [
    "\n",
    "<a id='eda'></a>\n",
    "## Exploratory Data Analysis"
   ]
  },
  {
   "cell_type": "code",
   "execution_count": 12,
   "metadata": {},
   "outputs": [
    {
     "name": "stdout",
     "output_type": "stream",
     "text": [
      "count    110527.000000\n",
      "mean          0.201933\n",
      "std           0.401444\n",
      "min           0.000000\n",
      "25%           0.000000\n",
      "50%           0.000000\n",
      "75%           0.000000\n",
      "max           1.000000\n",
      "Name: no_show, dtype: float64\n"
     ]
    }
   ],
   "source": [
    "# Dataset masks for present and absent patients.\n",
    "present = df.no_show == 0\n",
    "absent = df.no_show == 1\n",
    "# Objects to be used for creating proportions\n",
    "total = df.shape[0]\n",
    "num_present = list(present).count(True)\n",
    "num_absent = list(absent).count(True)\n",
    "print(df['no_show'].describe())"
   ]
  },
  {
   "cell_type": "markdown",
   "metadata": {},
   "source": [
    ">Given that 1 is equivalant to an absence, a mean summation provides the proportion of absenteeism throughout the entire database; 20% with a standard deviation of 40%. However this observed metric is not very useful due to the wide range of variance. The next step is to analyze this 20% and possibly define characteristics that are most likely to lead to absenteeism."
   ]
  },
  {
   "cell_type": "code",
   "execution_count": 13,
   "metadata": {
    "scrolled": true
   },
   "outputs": [
    {
     "data": {
      "image/png": "[encoded data removed]",
      "text/plain": [
       "<Figure size 432x288 with 1 Axes>"
      ]
     },
     "metadata": {
      "needs_background": "light"
     },
     "output_type": "display_data"
    }
   ],
   "source": [
    "plt.bar(['Present', 'Absent'], [num_present/total, num_absent/total], color = ['C3', 'C0'], alpha = .7)\n",
    "plt.xlabel('Total Patient Absenteeism')\n",
    "plt.ylabel('Proportion of Patients')\n",
    "plt.title('Proportion Present vs. Proportion Absent');"
   ]
  },
  {
   "cell_type": "markdown",
   "metadata": {},
   "source": [
    ">This graph shows that approximately 20% of all patients seem to demonstrate absenteeism, which seems to be pretty significant. The cause for this will be investigated in following graphs. "
   ]
  },
  {
   "cell_type": "markdown",
   "metadata": {},
   "source": [
    "### Research Question 1: Are certain ages more likely to be absent?\n",
    "\n",
    ">This research question is based on an assumption that certain age groups place a lower priority on health and thus are more likely to be absent. This could be for a variety of reasons such as, irrelevance (appointment is not neccesary), forgetfulness, generational stigma etc. This analysis will not be able to conclude by which reason an age is inclined to demonstrate patient absenteeism, but only which is the primary suspect age."
   ]
  },
  {
   "cell_type": "code",
   "execution_count": 14,
   "metadata": {
    "scrolled": false
   },
   "outputs": [
    {
     "data": {
      "image/png": "[encoded data removed]",
      "text/plain": [
       "<Figure size 432x288 with 1 Axes>"
      ]
     },
     "metadata": {
      "needs_background": "light"
     },
     "output_type": "display_data"
    }
   ],
   "source": [
    "#plot bars\n",
    "df.age[absent].hist(alpha =0.7)\n",
    "\n",
    "#labels\n",
    "plt.xlabel('Age')\n",
    "plt.ylabel('Patients Absent')\n",
    "plt.title('Patients Absent by Age');"
   ]
  },
  {
   "cell_type": "code",
   "execution_count": 15,
   "metadata": {
    "scrolled": false
   },
   "outputs": [
    {
     "data": {
      "text/plain": [
       "count    22319.000000\n",
       "mean        34.317667\n",
       "std         21.965941\n",
       "min          0.000000\n",
       "25%         16.000000\n",
       "50%         33.000000\n",
       "75%         51.000000\n",
       "max        115.000000\n",
       "Name: age, dtype: float64"
      ]
     },
     "execution_count": 15,
     "metadata": {},
     "output_type": "execute_result"
    }
   ],
   "source": [
    "df.age[absent].describe()"
   ]
  },
  {
   "cell_type": "markdown",
   "metadata": {},
   "source": [
    ">A basic histogram of the number of absent patients is arguably not very useful. While the mean and standard deviation are observable they do not really represent a sample likelihood of absenteeism. This is because the number of observations within age varies greatly, especially at the latter extreme of the sample since senior citizens are typically fewer. Instead, a graph of proportions may better capture the likelihood of absence."
   ]
  },
  {
   "cell_type": "code",
   "execution_count": 16,
   "metadata": {},
   "outputs": [],
   "source": [
    "#counting number of absent patients per age\n",
    "age_counts = df.groupby(['no_show', 'age']).count()['gender']\n",
    "#counting number of patients in total per age\n",
    "age_totals = df.groupby(['age']).count()['gender']\n",
    "#dividing absent patients by total number of patients per age\n",
    "age_proportions = age_counts[1]/age_totals\n",
    "age_proportions.dropna(inplace = True)"
   ]
  },
  {
   "cell_type": "code",
   "execution_count": 17,
   "metadata": {},
   "outputs": [
    {
     "data": {
      "image/png": "[encoded data removed]",
      "text/plain": [
       "<Figure size 432x288 with 1 Axes>"
      ]
     },
     "metadata": {
      "needs_background": "light"
     },
     "output_type": "display_data"
    }
   ],
   "source": [
    "#plot bars\n",
    "plt.scatter(age_proportions.index, age_proportions, alpha = .7, label = 'Age Proportions')\n",
    "\n",
    "#labels\n",
    "plt.xlabel('Age')\n",
    "plt.ylabel('Proportion of Patients Absent')\n",
    "plt.title('Proportion of Patient Absences by Age')\n",
    "plt.xticks([x for x in age_proportions.index if x%5 ==0]);"
   ]
  },
  {
   "cell_type": "code",
   "execution_count": 18,
   "metadata": {
    "scrolled": false
   },
   "outputs": [
    {
     "data": {
      "text/plain": [
       "count    100.000000\n",
       "mean       0.198505\n",
       "std        0.058913\n",
       "min        0.058824\n",
       "25%        0.164364\n",
       "50%        0.192376\n",
       "75%        0.228940\n",
       "max        0.600000\n",
       "Name: gender, dtype: float64"
      ]
     },
     "execution_count": 18,
     "metadata": {},
     "output_type": "execute_result"
    }
   ],
   "source": [
    "age_proportions.describe()"
   ]
  },
  {
   "cell_type": "markdown",
   "metadata": {},
   "source": [
    ">Using proportions a much different pattern emerges. By this graph, absenteeism seems to decrease in prominence as a person becomes older. Indeed, the most likely to be absent are those within a rough 10-30 year-old bracket. Although there are a number of possible reasons, one hypothesis for this bracket of ages is that this age tends to be the healthiest, and therefore would place a low priority on seeking medical attention.\n",
    "\n",
    ">Looking at the mean and standard deviation, it would seem that the likelihood for absenteeism is around 20%, with a 5% variation depending on age that is positive for younger individuals and negative for older individuals.\n",
    "\n",
    ">In this sample metrics for the older individuals are difficult to observe since the sample is small, making absenteeism proportions quite exaggerated; this is especially apparent with the oldest age(115) where 3/5 individuals were absent, explaining the 60% absenteeism rate. That observation possibly exaggerates the standard deviation, but since it is only one observation it seems reasonable to include it. "
   ]
  },
  {
   "cell_type": "markdown",
   "metadata": {},
   "source": [
    "### Life Stages\n",
    "\n",
    ">An alternative form of understanding the age characteristic is through a graph of general age groups (life stages). While this does remove the ability to emphasize the rate at which absenteeism develops over age, it does provide more clear-cut answers on which age group is more likely to be absent. Again, proportions will most likely provide better metrics than absolute numbers due to the difference in sample sizes"
   ]
  },
  {
   "cell_type": "code",
   "execution_count": 19,
   "metadata": {
    "scrolled": true
   },
   "outputs": [
    {
     "name": "stdout",
     "output_type": "stream",
     "text": [
      "life_stage\n",
      "Child          0.208230\n",
      "Teenager       0.474817\n",
      "Young Adult    0.217915\n",
      "Adult          0.104247\n",
      "Senior         0.346590\n",
      "Name: gender, dtype: float64\n"
     ]
    }
   ],
   "source": [
    "#counting number of absent patients per lifestage\n",
    "# (0: Patient showed up. 1: Patient was absent)\n",
    "ls_counts = df.groupby(['life_stage', 'no_show']).count()['gender']\n",
    "#counting number of patients in total per lifestage\n",
    "ls_totals = df.groupby(['life_stage']).count()['gender']\n",
    "#dividing absent patients by total number of patients per lifestage\n",
    "ls_proportions = ls_counts[1]/ls_totals\n",
    "print(ls_proportions)"
   ]
  },
  {
   "cell_type": "code",
   "execution_count": 20,
   "metadata": {
    "scrolled": true
   },
   "outputs": [
    {
     "data": {
      "image/png": "[encoded data removed]",
      "text/plain": [
       "<Figure size 432x288 with 1 Axes>"
      ]
     },
     "metadata": {
      "needs_background": "light"
     },
     "output_type": "display_data"
    }
   ],
   "source": [
    "#plot bars\n",
    "ind = np.arange(len(ls_proportions))\n",
    "plt.bar(ind, ls_proportions, alpha = .7)\n",
    "\n",
    "#labels\n",
    "plt.ylabel('Proporiton')\n",
    "plt.xlabel('Life Stages')\n",
    "plt.title('Proportion of Absences by Life Stage')\n",
    "labels = ['Child', 'Teenager', 'Young Adult', 'Adult', 'Senior']  # xtick labels\n",
    "plt.xticks(ind, labels);"
   ]
  },
  {
   "cell_type": "code",
   "execution_count": 21,
   "metadata": {},
   "outputs": [
    {
     "name": "stdout",
     "output_type": "stream",
     "text": [
      "count    5.000000\n",
      "mean     0.270360\n",
      "std      0.143019\n",
      "min      0.104247\n",
      "25%      0.208230\n",
      "50%      0.217915\n",
      "75%      0.346590\n",
      "max      0.474817\n",
      "Name: gender, dtype: float64\n"
     ]
    }
   ],
   "source": [
    "print(ls_proportions.describe())"
   ]
  },
  {
   "cell_type": "markdown",
   "metadata": {},
   "source": [
    ">When graphed by lifestages it becomes even more apparent that the youth are the most likely to demonstrate patient absenteeism. The age bins for life stages are as follows: Child(-1-12), Teenager (13-20), Young Adult (20-35), Adult(35-65), Senior (65+). Unlike the unbinned metric, observing absences by proportions does not create a very smooth curve. The standard deviation varies much more, +/- 14%, and the mean is much higher. This makes binning less useful for observing an overall level of absenteeism in the sample population. However, although this graph simplifies the issue and is strongly dictated by the bin edges, it provides straightforward and tangible answers on the primary age demographic for patient absenteeism; Teenagers are the most likely to be absent at 47% absences, and Adults are the least likely at 10%. This reconfirms the earlier analysis that younger people are more likely to be absent than older people. Interestingly, Seniors are also likely to be absent at 34% (possibly affected by outliers), and possible reasons could be generational stigma or forgetfulness."
   ]
  },
  {
   "cell_type": "markdown",
   "metadata": {},
   "source": [
    "### Research Question 2 : Are certain appointment days more likely to encourage patient absenteeism?\n",
    "\n",
    ">This research question stems from the assumption that certain days, or even seasons, are more inclined to promote patient absenteeism. One could expect that summer seasons or even weekends would promote patient abseentism in preference for leisure. Or the opposite could be true that patients demonstrate absenteeism during busy work/school seasons. This analysis will not be able to conclude by which reasons patients demonstrate absenteeism but only which seasons/days were most suspect. All days are drawn from the year 2016, as noted by the dataset."
   ]
  },
  {
   "cell_type": "code",
   "execution_count": 22,
   "metadata": {},
   "outputs": [
    {
     "name": "stdout",
     "output_type": "stream",
     "text": [
      "(27,)\n"
     ]
    }
   ],
   "source": [
    "#get total counts for patient absenteeism for each day\n",
    "# (0: Patient showed up. 1: Patient was absent)\n",
    "appt_counts = df.groupby(['no_show', 'appt_trim']).count()['gender']\n",
    "# get objects for graphing proportions\n",
    "appt_total = df.groupby(['appt_trim']).count()['gender']\n",
    "appt_prop = appt_counts/appt_total\n",
    "print(appt_prop[1].index.shape)"
   ]
  },
  {
   "cell_type": "code",
   "execution_count": 23,
   "metadata": {
    "scrolled": true
   },
   "outputs": [
    {
     "data": {
      "image/png": "[encoded data removed]",
      "text/plain": [
       "<Figure size 432x288 with 1 Axes>"
      ]
     },
     "metadata": {
      "needs_background": "light"
     },
     "output_type": "display_data"
    }
   ],
   "source": [
    "#plot graph\n",
    "ind = np.arange(len(df['appt_trim'].unique()))\n",
    "plt.scatter(list(df['appt_trim'].unique()), appt_counts[1])\n",
    "\n",
    "#labels\n",
    "plt.ylabel('Number of Patients Absent')\n",
    "plt.xlabel('Dates')\n",
    "plt.title('Number of Patients Absent by Date')\n",
    "\n",
    "#getting x ticks\n",
    "z = []\n",
    "y = list(df['appt_trim'].unique())\n",
    "\n",
    "for x in range(len(y)): #dates (MM-DD)\n",
    "    z += [int(str(y[x]).replace('-', ''))]\n",
    "z = np.sort(z)\n",
    "for j in range(len(z)):\n",
    "    y[j] = str(z[j])\n",
    "    y[j] = str(y[j][0]) + '-' + str(y[j][1:]) \n",
    "plt.xticks([0, 3, 7, 11, 15, 19, 23, 26], [y[0], y[3], y[7], y[11], y[15], y[19], y[23], y[26]]);"
   ]
  },
  {
   "cell_type": "markdown",
   "metadata": {},
   "source": [
    ">This graph demonstrates a very rough concave curve of absenteeism that peaks at around the middle of May. However, such a graph does not take into account the popularity of each day for scheduling. It is likely that some dates are more popular and would therefore end with a higher overall number of absences (or less, hence the May 14th observation). A graph of the proportional number of absences may possibly present a different conclusion."
   ]
  },
  {
   "cell_type": "code",
   "execution_count": 24,
   "metadata": {},
   "outputs": [
    {
     "data": {
      "image/png": "[encoded data removed]",
      "text/plain": [
       "<Figure size 432x288 with 1 Axes>"
      ]
     },
     "metadata": {
      "needs_background": "light"
     },
     "output_type": "display_data"
    }
   ],
   "source": [
    "ind = np.arange(len(df['appt_trim'].unique()))\n",
    "#plotting graph\n",
    "plt.scatter(list(appt_prop[1].index), appt_prop[1])\n",
    "plt.ylabel('Proportion of Patients Absent')\n",
    "plt.xlabel('Dates')\n",
    "plt.title('Proportion of Patients Absent by Date')\n",
    "\n",
    "#labels\n",
    "#Borrowing code from previous cell since xticks should be the same\n",
    "z = []\n",
    "y = list(df['appt_trim'].unique())\n",
    "\n",
    "for x in range(len(y)): #dates (MM-DD)\n",
    "    z += [int(str(y[x]).replace('-', ''))]\n",
    "z = np.sort(z)\n",
    "for j in range(len(z)):\n",
    "    y[j] = str(z[j])\n",
    "    y[j] = str(y[j][0]) + '-' + str(y[j][1:]) \n",
    "plt.xticks([0, 3, 7, 11, 15, 19, 23, 26], [y[0], y[3], y[7], y[11], y[15], y[19], y[23], y[26]]);"
   ]
  },
  {
   "cell_type": "code",
   "execution_count": 25,
   "metadata": {},
   "outputs": [
    {
     "name": "stdout",
     "output_type": "stream",
     "text": [
      "count    27.000000\n",
      "mean      0.203189\n",
      "std       0.018402\n",
      "min       0.172806\n",
      "25%       0.189674\n",
      "50%       0.196822\n",
      "75%       0.219652\n",
      "max       0.234848\n",
      "Name: gender, dtype: float64\n"
     ]
    }
   ],
   "source": [
    "print(appt_prop[1].describe())"
   ]
  },
  {
   "cell_type": "markdown",
   "metadata": {},
   "source": [
    ">Graphed by proportions the data presents a very different story. By the graph there is a slight downward curve as the date proceeds towards June. However, the curve is no longer as apparrent around the middle of May as it was in the graph of absolute numbers. Moreover, a describe() function reveals that the standard deviation for the data on absences by dates is only around 2%. This would mean that the overall variation in likelihood of absence is quite little and that the general likelihood for absences is probably not too far from the mean of 20%. It would seem that the appointment date does not have a very strong impact on the likelihood for absences."
   ]
  },
  {
   "cell_type": "markdown",
   "metadata": {},
   "source": [
    "## Research Question: Does gender influence a patients likelihood to demonstrate patient absenteeism?\n",
    "\n",
    ">This question stems from an assumption that men and women are raised/born differently, at least in a Brazil, and would show a significant difference in patient absenteeism."
   ]
  },
  {
   "cell_type": "code",
   "execution_count": 26,
   "metadata": {},
   "outputs": [],
   "source": [
    "# get total counts for patient absenteeism for each day\n",
    "# (0: Patient is male. 1: Patient is female)\n",
    "# (0: Patient showed up. 1: Patient was absent)\n",
    "gender_counts = df.groupby(['no_show', 'gender']).count()['age'][1]\n",
    "# objects for gender proportions\n",
    "gender_totals = df.groupby(['gender']).count()['age']\n",
    "gender_props = gender_counts/gender_totals"
   ]
  },
  {
   "cell_type": "code",
   "execution_count": 27,
   "metadata": {},
   "outputs": [
    {
     "data": {
      "image/png": "[encoded data removed]",
      "text/plain": [
       "<Figure size 432x288 with 1 Axes>"
      ]
     },
     "metadata": {
      "needs_background": "light"
     },
     "output_type": "display_data"
    }
   ],
   "source": [
    "#plot bars\n",
    "ind = np.arange(len(gender_counts))\n",
    "plt.bar(ind, gender_counts, color = ['C3', 'C0'], alpha = .7)\n",
    "\n",
    "#labels\n",
    "plt.xlabel('Gender')\n",
    "plt.ylabel('Absolute Number of Absent Patients')\n",
    "plt.title('Number of Patients Absent by Gender')\n",
    "plt.xticks([0, 1], ['Male', 'Female']);"
   ]
  },
  {
   "cell_type": "markdown",
   "metadata": {},
   "source": [
    ">Although it would seem that Females are much more likely to demonstrate patient absenteeism, like in previous sections, the gender graph may better be understood through graphing proportions."
   ]
  },
  {
   "cell_type": "code",
   "execution_count": 28,
   "metadata": {},
   "outputs": [
    {
     "data": {
      "image/png": "[encoded data removed]",
      "text/plain": [
       "<Figure size 432x288 with 1 Axes>"
      ]
     },
     "metadata": {
      "needs_background": "light"
     },
     "output_type": "display_data"
    }
   ],
   "source": [
    "#plot bars\n",
    "ind = np.arange(len(gender_props))\n",
    "plt.bar(ind, gender_props, color = ['C3', 'C0'], alpha = .7)\n",
    "\n",
    "#labels\n",
    "plt.xlabel('Gender')\n",
    "plt.ylabel('Absolute Number of Absent Patients')\n",
    "plt.title('Number of Patients Absent by Gender')\n",
    "plt.xticks([0, 1], ['Male', 'Female']);"
   ]
  },
  {
   "cell_type": "code",
   "execution_count": 29,
   "metadata": {},
   "outputs": [
    {
     "name": "stdout",
     "output_type": "stream",
     "text": [
      "count    2.000000\n",
      "mean     0.201413\n",
      "std      0.002451\n",
      "min      0.199679\n",
      "25%      0.200546\n",
      "50%      0.201413\n",
      "75%      0.202279\n",
      "max      0.203146\n",
      "Name: age, dtype: float64\n"
     ]
    }
   ],
   "source": [
    "print(gender_props.describe())"
   ]
  },
  {
   "cell_type": "markdown",
   "metadata": {},
   "source": [
    ">When done by proportions this graph surprisingly takes a turn that resembles the appointment day characteristic. Even smoother than before, absenteeism graphed by gender proportions is even more uniform, with both Males and Females demonstrating about 20% likelihood for absenteeism with a .2% standard deviation. This strongly suggests that gender does not influence likelihood for absenteeism."
   ]
  },
  {
   "cell_type": "markdown",
   "metadata": {},
   "source": [
    "## Gender and Age\n",
    "\n",
    ">This investigation gives further insight into the question of gender and age by assuming that there may be variations in patient absenteeism that are influenced by the two variables interacting with each other.\n",
    "\n",
    ">Due to limitations of a purely graphical analysis, the graph will be using lifestage as this may improve readability."
   ]
  },
  {
   "cell_type": "code",
   "execution_count": 30,
   "metadata": {},
   "outputs": [
    {
     "data": {
      "text/plain": [
       "life_stage\n",
       "Child          0.207096\n",
       "Teenager       0.269987\n",
       "Young Adult    0.232087\n",
       "Adult          0.178983\n",
       "Senior         0.152721\n",
       "Name: appointmentday, dtype: float64"
      ]
     },
     "execution_count": 30,
     "metadata": {},
     "output_type": "execute_result"
    }
   ],
   "source": [
    "# Retrieving all absent counts for gender and age\n",
    "ga_counts = df.groupby(['no_show', 'gender', 'life_stage',]).count()['appointmentday'][1]\n",
    "# Retrieving objects for proportions of absences for gender and age\n",
    "ga_totals = df.groupby(['gender', 'life_stage']).count()['appointmentday']\n",
    "ga_props = ga_counts/ga_totals\n",
    "ga_props[0]"
   ]
  },
  {
   "cell_type": "code",
   "execution_count": 43,
   "metadata": {},
   "outputs": [
    {
     "data": {
      "image/png": "[encoded data removed]",
      "text/plain": [
       "<Figure size 432x288 with 1 Axes>"
      ]
     },
     "metadata": {
      "needs_background": "light"
     },
     "output_type": "display_data"
    }
   ],
   "source": [
    "#plot bars\n",
    "ind = np.arange(len(ga_props)/2)\n",
    "width = 0.35\n",
    "male_bars = plt.bar(ind, ga_props[0], width, color = 'C3', alpha = .7, label = 'Male')\n",
    "white_bars = plt.bar(ind + width, ga_props[1], width, color = 'C0', alpha = .7, label = 'Female')\n",
    "\n",
    "#labels\n",
    "plt.xlabel('Gender and Age')\n",
    "plt.ylabel('Proportion of Absence')\n",
    "plt.title('Proportion of Absence by Age and Gender')\n",
    "plt.legend()\n",
    "plt.xticks(ind + width/2, labels = ['Child', 'Teenager', 'Young Adult', 'Adult', 'Senior']);"
   ]
  },
  {
   "cell_type": "code",
   "execution_count": 46,
   "metadata": {
    "scrolled": true
   },
   "outputs": [
    {
     "name": "stdout",
     "output_type": "stream",
     "text": [
      "Male\n",
      "count    5.000000\n",
      "mean     0.208175\n",
      "std      0.045610\n",
      "min      0.152721\n",
      "25%      0.178983\n",
      "50%      0.207096\n",
      "75%      0.232087\n",
      "max      0.269987\n",
      "Name: appointmentday, dtype: float64\n",
      "\n",
      "Female\n",
      "count    5.000000\n",
      "mean     0.208088\n",
      "std      0.037794\n",
      "min      0.156604\n",
      "25%      0.186828\n",
      "50%      0.209467\n",
      "75%      0.238191\n",
      "max      0.249352\n",
      "Name: appointmentday, dtype: float64\n"
     ]
    }
   ],
   "source": [
    "print('Male')\n",
    "print(ga_props[0].describe())\n",
    "print()\n",
    "print('Female')\n",
    "print(ga_props[1].describe())"
   ]
  },
  {
   "cell_type": "markdown",
   "metadata": {},
   "source": [
    "> As before the age bins are as follows: Child(-1-12), Teenager (13-20), Young Adult (20-35), Adult(35-65), Senior (65+).\n",
    "\n",
    "> In this graph of absenteeism proportions by age and gender, it seems that there is still very little variation in absenteeism by gender. Although females tended to be slightly more prone to absenteeism than males, except for Teenagers, this fact is arguably nelgibile. The overall differences in means between males and females is only a difference of .000097; in other words, females are on average more likely to be absent by .0097%, an arguably insiginficant statistic. However, it should be noted that age seems to still be a strong determinant in variation of absences, and moreover the average likelihood for absence remains more or less the same as both the previous analysis of aggregate gender and age, 20%."
   ]
  },
  {
   "cell_type": "markdown",
   "metadata": {},
   "source": [
    "<a id='conclusions'></a>\n",
    "## Conclusions\n",
    "\n",
    "> Of the characteristics analyzed, age, appointment date, and gender, it would seem that the most significant determinant in variation of absenteeism is age. Above all, the overall likelihood of absenteeism seems to be roughly 20%, gathered from all three characteristics, with much less variation than initially assumed.\n",
    "\n",
    "> Nonetheless, this analysis is still exceptionally rudimentary. As stated in the Introduction, this analyses fails to take a number of characteristics into account, such as Culture or even Neighbourhood. Further analysis on such characteristics, such as Neighbourhood, might reveal a region that has exceptionally high rates of absenteeism, or vice versa, that do not vary with age or gender. \n",
    "\n",
    ">Also, as mentioned in the appointment day analysis, the data analyzed here was cross-sectional and has limited ability to make statements about Brazil as a whole. While 2016 may demonstrate a supposed 20% rate of abseenteeism, this may not be the case for other years.\n",
    "\n",
    ">Lastly, this analysis has no plausibile explanations for the variations observed in the analysis. Although variations are observed in age, appointment day, and gender (however slight), no reasons for these variations cannot be provided, only conjecture."
   ]
  },
  {
   "cell_type": "code",
   "execution_count": null,
   "metadata": {},
   "outputs": [],
   "source": []
  }
 ],
 "metadata": {
  "kernelspec": {
   "display_name": "Python 3",
   "language": "python",
   "name": "python3"
  },
  "language_info": {
   "codemirror_mode": {
    "name": "ipython",
    "version": 3
   },
   "file_extension": ".py",
   "mimetype": "text/x-python",
   "name": "python",
   "nbconvert_exporter": "python",
   "pygments_lexer": "ipython3",
   "version": "3.7.3"
  }
 },
 "nbformat": 4,
 "nbformat_minor": 2
}
